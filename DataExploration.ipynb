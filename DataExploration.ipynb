{
 "cells": [
  {
   "cell_type": "code",
   "execution_count": 3,
   "id": "70bd8860",
   "metadata": {},
   "outputs": [],
   "source": [
    "# Imports\n",
    "import mne\n",
    "import numpy as np\n",
    "import matplotlib.pyplot as plt\n",
    "import nelpy as nel\n",
    "import nelpy.plotting as npl\n",
    "import scipy.io\n",
    "from scipy import signal\n",
    "from copy import *\n",
    "import pandas as pd\n",
    "from ghost.wave import ContinuousWaveletTransform\n",
    "import ghost.wave as gwave\n",
    "from seegpreprocessing import *\n",
    "\n",
    "import warnings\n",
    "warnings.filterwarnings('ignore')"
   ]
  },
  {
   "cell_type": "code",
   "execution_count": 4,
   "id": "d332106c",
   "metadata": {},
   "outputs": [],
   "source": [
    "%matplotlib qt"
   ]
  },
  {
   "cell_type": "markdown",
   "id": "837132fd",
   "metadata": {},
   "source": [
    "# Loading the Data\n",
    "\n",
    "If grabbing signal from `data`, note that `data[channel]` will return a tuple, where the array at index `0` contains the values of the signal, and the array at index `1` contains the timestamps."
   ]
  },
  {
   "cell_type": "code",
   "execution_count": 9,
   "id": "95e84a95",
   "metadata": {},
   "outputs": [
    {
     "name": "stdout",
     "output_type": "stream",
     "text": [
      "Extracting EDF parameters from /home/ariel/Documents/CMU/AHN/May17_test.edf...\n",
      "EDF file detected\n",
      "Setting channel info structure...\n",
      "Creating raw.info structure...\n",
      "Reading 0 ... 3125119  =      0.000 ...  3051.874 secs...\n"
     ]
    }
   ],
   "source": [
    "# Loading SEEG Data\n",
    "path = '/home/ariel/Documents/CMU/AHN/May17_test.edf'\n",
    "data = mne.io.read_raw_edf(path, preload=True)\n",
    "raw_data = data.get_data()\n",
    "\n",
    "# Loading corresponding .mat file\n",
    "pat_csv = pd.read_csv('/home/ariel/Documents/CMU/AHN/p1_exp1.csv')"
   ]
  },
  {
   "cell_type": "markdown",
   "id": "f9a51200-eea2-4da5-8189-ec392b4191fa",
   "metadata": {},
   "source": [
    "## Extracting trigger events and metadata"
   ]
  },
  {
   "cell_type": "code",
   "execution_count": 10,
   "id": "ea4fa7d0",
   "metadata": {},
   "outputs": [],
   "source": [
    "channel_mapping = {'gyrus rectus': ['O1','O2','O3','O4','O5','O6','O7','O8','O9','O10','O11','O12'], \n",
    "                   'insula': ['Y1','Y2','Y3','Y4','Y5','Y6','Y7','Y8','Y9','Y10','Y11','Y12','Y13', 'Y14'],\n",
    "                   'aMCC': ['G1','G2','G3','G4','G5','G6','G7','G8','G9','G10','G11','G12'],\n",
    "                   'STG': ['T1','T2','T3','T4'],\n",
    "                   'temporal pole': ['I1','I2','I3','I4','I5','I6','I7','I8'],\n",
    "                   'amygdala': ['A1','A2','A3','A4','A5','A6','A7','A8','A9','A10'],\n",
    "                   'anterior hippocampus': ['B1','B2','B3','B4','B5','B6','B7','B8','B9','B10'],\n",
    "                   'posterior hippocampus': ['C1','C2','C3','C4','C5','C6','C7','C8','C9','C10'],\n",
    "                   'heschl gyrus': ['U1','U2','U3','U4','U5','U6','U7','U8'],\n",
    "                   'fusiform gyrus': ['F1','F2','F3','F4','F5','F6','F7','F8'],\n",
    "                   'triggers' : ['DC7', 'TRIG']}"
   ]
  },
  {
   "cell_type": "code",
   "execution_count": 11,
   "id": "b38fbe74",
   "metadata": {},
   "outputs": [
    {
     "name": "stderr",
     "output_type": "stream",
     "text": [
      "WARNING:root:creating support from abscissa_vals and sampling rate, fs!\n",
      "WARNING:root:'fs' has been deprecated; use 'step' instead\n"
     ]
    }
   ],
   "source": [
    "# you can get the metadata included in the file and a list of all channels:\n",
    "info = data.info\n",
    "channels = data.ch_names\n",
    "trig_idx = np.where(np.array(channels) == 'TRIG')[0][0]\n",
    "trig_asa = nel.AnalogSignalArray(raw_data[trig_idx,:], fs=1024)"
   ]
  },
  {
   "cell_type": "code",
   "execution_count": 12,
   "id": "5039dd5a",
   "metadata": {},
   "outputs": [
    {
     "name": "stdout",
     "output_type": "stream",
     "text": [
      "Trigger channel has a non-zero initial value of 255 (consider using initial_event=True to detect this event)\n",
      "Removing orphaned offset at the beginning of the file.\n",
      "180 events found\n",
      "Event IDs: [0 1]\n"
     ]
    }
   ],
   "source": [
    "# Find event triggers (rising and falling edge)\n",
    "trigger_events = mne.find_events(data, stim_channel=\"TRIG\", output='step')\n",
    "trigger_epochs = nel.EpochArray(trigger_events[:,0].reshape(90,2)/1024)"
   ]
  },
  {
   "cell_type": "markdown",
   "id": "45b66759-4eec-4f85-a608-3ccc6bd3460d",
   "metadata": {},
   "source": [
    "### Extract event type triggers"
   ]
  },
  {
   "cell_type": "code",
   "execution_count": 13,
   "id": "8b87e746-55b2-4b67-a718-e7b818511588",
   "metadata": {},
   "outputs": [],
   "source": [
    "key_press_epochs = trigger_epochs[np.arange(2,90,6)]\n",
    "display_epochs = trigger_epochs[np.arange(1,90,6)]"
   ]
  },
  {
   "cell_type": "code",
   "execution_count": 8,
   "id": "fdc2b5b9-e73d-47dc-82f0-e113cd52c210",
   "metadata": {},
   "outputs": [
    {
     "data": {
      "text/plain": [
       "Text(0.5, 1.0, 'Trigger Trace')"
      ]
     },
     "execution_count": 8,
     "metadata": {},
     "output_type": "execute_result"
    }
   ],
   "source": [
    "# Validating that the trigger events are visible\n",
    "npl.plot(trig_asa)\n",
    "\n",
    "# Plotting the key presses and expanding slightly so they color the full pulse\n",
    "npl.plot(trig_asa[key_press_epochs.expand(0.001)], color='orange')\n",
    "\n",
    "# Formatting the plot for readability\n",
    "plt.legend(['trigger pulses', 'key presses'])\n",
    "ax = plt.gca()\n",
    "ax.set_xlim(left=trigger_epochs.expand(1).start, right=trigger_epochs.expand(1).stop)\n",
    "ax.set_ylim(top=2, bottom=-1)\n",
    "plt.title('Trigger Trace')"
   ]
  },
  {
   "cell_type": "markdown",
   "id": "c567605e-77e0-4599-b4b5-5dd9df5e1c44",
   "metadata": {},
   "source": [
    "## Constructing representations of SEEG signals"
   ]
  },
  {
   "cell_type": "code",
   "execution_count": 14,
   "id": "bb832c9a",
   "metadata": {},
   "outputs": [
    {
     "name": "stderr",
     "output_type": "stream",
     "text": [
      "WARNING:root:creating support from abscissa_vals and sampling rate, fs!\n",
      "WARNING:root:'fs' has been deprecated; use 'step' instead\n",
      "WARNING:root:creating support from abscissa_vals and sampling rate, fs!\n",
      "WARNING:root:'fs' has been deprecated; use 'step' instead\n",
      "WARNING:root:creating support from abscissa_vals and sampling rate, fs!\n",
      "WARNING:root:'fs' has been deprecated; use 'step' instead\n"
     ]
    }
   ],
   "source": [
    "# Build AnalogSignalArrays to contain data of interest\n",
    "\n",
    "# seeg_asa = nel.AnalogSignalArray(raw_data[:96,:], fs=1024)\n",
    "amcc_asa = nel.AnalogSignalArray(raw_data[26:38,:], fs=1024)\n",
    "ant_hippo_asa = nel.AnalogSignalArray(raw_data[60:70,:], fs=1024)\n",
    "post_hippo_asa = nel.AnalogSignalArray(raw_data[70:80,:], fs=1024)"
   ]
  },
  {
   "cell_type": "code",
   "execution_count": 10,
   "id": "bc162bc4-3282-42f8-9820-3ef01476275e",
   "metadata": {},
   "outputs": [],
   "source": [
    "window = nel.EpochArray([trigger_epochs[0].start-0.5, trigger_epochs[1].stop+0.5])\n",
    "with npl.FigureManager(show=True, figsize=(20,10)):\n",
    "    ax = plt.gca()\n",
    "    for idx, sig in enumerate(ant_hippo_asa.signals):\n",
    "        npl.plot(sig[window], ax=ax, label=str(idx+1))\n",
    "    npl.epochplot(trigger_epochs[0:2], fc='purple', ec='purple', alpha=0.2, ax=ax)\n",
    "    ax.set_ylim(top=(ant_hippo_asa[window].data[:,:]).max())\n",
    "    box = ax.get_position()\n",
    "    ax.set_position([box.x0, box.y0 + box.height * 0.1,\n",
    "                     box.width, box.height * 0.9])\n",
    "    \n",
    "    # Put a legend below current axis\n",
    "    ax.legend(loc='upper center', bbox_to_anchor=(0.5, -0.05),\n",
    "              fancybox=True, shadow=True, ncol=5)\n",
    "    plt.title('Anterior Hippocampus Trigger Event')"
   ]
  },
  {
   "cell_type": "markdown",
   "id": "f1e44b1b-9fe0-4a23-a2c4-a53540269a37",
   "metadata": {},
   "source": [
    "## Validating `.mat` data\n",
    "We want to make sure we have access to the behavioral data and can visualize the information stored easily in Python"
   ]
  },
  {
   "cell_type": "code",
   "execution_count": 9,
   "id": "2ffd640d-e447-4329-84da-d38b5d444e91",
   "metadata": {},
   "outputs": [
    {
     "data": {
      "text/html": [
       "<div>\n",
       "<style scoped>\n",
       "    .dataframe tbody tr th:only-of-type {\n",
       "        vertical-align: middle;\n",
       "    }\n",
       "\n",
       "    .dataframe tbody tr th {\n",
       "        vertical-align: top;\n",
       "    }\n",
       "\n",
       "    .dataframe thead th {\n",
       "        text-align: right;\n",
       "    }\n",
       "</style>\n",
       "<table border=\"1\" class=\"dataframe\">\n",
       "  <thead>\n",
       "    <tr style=\"text-align: right;\">\n",
       "      <th></th>\n",
       "      <th>color</th>\n",
       "      <th>word</th>\n",
       "      <th>char</th>\n",
       "      <th>display_time</th>\n",
       "      <th>wait_time</th>\n",
       "      <th>total_trial_time</th>\n",
       "    </tr>\n",
       "  </thead>\n",
       "  <tbody>\n",
       "    <tr>\n",
       "      <th>0</th>\n",
       "      <td>blue</td>\n",
       "      <td>green</td>\n",
       "      <td>3</td>\n",
       "      <td>3.386251</td>\n",
       "      <td>0.479237</td>\n",
       "      <td>4.886824</td>\n",
       "    </tr>\n",
       "    <tr>\n",
       "      <th>1</th>\n",
       "      <td>red</td>\n",
       "      <td>blue</td>\n",
       "      <td>1</td>\n",
       "      <td>2.378658</td>\n",
       "      <td>0.602280</td>\n",
       "      <td>3.998565</td>\n",
       "    </tr>\n",
       "    <tr>\n",
       "      <th>2</th>\n",
       "      <td>red</td>\n",
       "      <td>green</td>\n",
       "      <td>1</td>\n",
       "      <td>1.115505</td>\n",
       "      <td>1.233669</td>\n",
       "      <td>3.369640</td>\n",
       "    </tr>\n",
       "    <tr>\n",
       "      <th>3</th>\n",
       "      <td>green</td>\n",
       "      <td>green</td>\n",
       "      <td>2</td>\n",
       "      <td>0.986795</td>\n",
       "      <td>0.922113</td>\n",
       "      <td>2.898775</td>\n",
       "    </tr>\n",
       "    <tr>\n",
       "      <th>4</th>\n",
       "      <td>green</td>\n",
       "      <td>red</td>\n",
       "      <td>2</td>\n",
       "      <td>1.090888</td>\n",
       "      <td>0.586531</td>\n",
       "      <td>2.684507</td>\n",
       "    </tr>\n",
       "    <tr>\n",
       "      <th>5</th>\n",
       "      <td>red</td>\n",
       "      <td>red</td>\n",
       "      <td>1</td>\n",
       "      <td>1.158711</td>\n",
       "      <td>0.903755</td>\n",
       "      <td>3.039829</td>\n",
       "    </tr>\n",
       "    <tr>\n",
       "      <th>6</th>\n",
       "      <td>blue</td>\n",
       "      <td>red</td>\n",
       "      <td>3</td>\n",
       "      <td>1.313497</td>\n",
       "      <td>0.831120</td>\n",
       "      <td>3.160708</td>\n",
       "    </tr>\n",
       "    <tr>\n",
       "      <th>7</th>\n",
       "      <td>blue</td>\n",
       "      <td>green</td>\n",
       "      <td>3</td>\n",
       "      <td>1.434117</td>\n",
       "      <td>0.942387</td>\n",
       "      <td>3.352748</td>\n",
       "    </tr>\n",
       "    <tr>\n",
       "      <th>8</th>\n",
       "      <td>red</td>\n",
       "      <td>blue</td>\n",
       "      <td>1</td>\n",
       "      <td>1.250112</td>\n",
       "      <td>1.321807</td>\n",
       "      <td>3.545485</td>\n",
       "    </tr>\n",
       "    <tr>\n",
       "      <th>9</th>\n",
       "      <td>red</td>\n",
       "      <td>green</td>\n",
       "      <td>1</td>\n",
       "      <td>1.981220</td>\n",
       "      <td>0.634936</td>\n",
       "      <td>3.582318</td>\n",
       "    </tr>\n",
       "    <tr>\n",
       "      <th>10</th>\n",
       "      <td>green</td>\n",
       "      <td>red</td>\n",
       "      <td>2</td>\n",
       "      <td>1.009243</td>\n",
       "      <td>0.632337</td>\n",
       "      <td>2.746724</td>\n",
       "    </tr>\n",
       "    <tr>\n",
       "      <th>11</th>\n",
       "      <td>green</td>\n",
       "      <td>green</td>\n",
       "      <td>2</td>\n",
       "      <td>0.968361</td>\n",
       "      <td>0.596195</td>\n",
       "      <td>2.561264</td>\n",
       "    </tr>\n",
       "    <tr>\n",
       "      <th>12</th>\n",
       "      <td>green</td>\n",
       "      <td>blue</td>\n",
       "      <td>2</td>\n",
       "      <td>1.813362</td>\n",
       "      <td>0.879714</td>\n",
       "      <td>3.647239</td>\n",
       "    </tr>\n",
       "    <tr>\n",
       "      <th>13</th>\n",
       "      <td>blue</td>\n",
       "      <td>red</td>\n",
       "      <td>3</td>\n",
       "      <td>2.060072</td>\n",
       "      <td>0.862202</td>\n",
       "      <td>3.921438</td>\n",
       "    </tr>\n",
       "    <tr>\n",
       "      <th>14</th>\n",
       "      <td>red</td>\n",
       "      <td>red</td>\n",
       "      <td>1</td>\n",
       "      <td>2.125352</td>\n",
       "      <td>0.980158</td>\n",
       "      <td>4.158416</td>\n",
       "    </tr>\n",
       "  </tbody>\n",
       "</table>\n",
       "</div>"
      ],
      "text/plain": [
       "    color   word  char  display_time  wait_time  total_trial_time\n",
       "0    blue  green     3      3.386251   0.479237          4.886824\n",
       "1     red   blue     1      2.378658   0.602280          3.998565\n",
       "2     red  green     1      1.115505   1.233669          3.369640\n",
       "3   green  green     2      0.986795   0.922113          2.898775\n",
       "4   green    red     2      1.090888   0.586531          2.684507\n",
       "5     red    red     1      1.158711   0.903755          3.039829\n",
       "6    blue    red     3      1.313497   0.831120          3.160708\n",
       "7    blue  green     3      1.434117   0.942387          3.352748\n",
       "8     red   blue     1      1.250112   1.321807          3.545485\n",
       "9     red  green     1      1.981220   0.634936          3.582318\n",
       "10  green    red     2      1.009243   0.632337          2.746724\n",
       "11  green  green     2      0.968361   0.596195          2.561264\n",
       "12  green   blue     2      1.813362   0.879714          3.647239\n",
       "13   blue    red     3      2.060072   0.862202          3.921438\n",
       "14    red    red     1      2.125352   0.980158          4.158416"
      ]
     },
     "execution_count": 9,
     "metadata": {},
     "output_type": "execute_result"
    }
   ],
   "source": [
    "pat_csv"
   ]
  },
  {
   "cell_type": "markdown",
   "id": "55f47cf5",
   "metadata": {},
   "source": [
    "# Removing noise\n",
    "Simple preprocessing of SEEG data, we are high pass filtering (default is at 0.5 Hz), and notching at harmonics of the line noise frequency (default is at 60 Hz)."
   ]
  },
  {
   "cell_type": "code",
   "execution_count": 15,
   "id": "c981d73f-20dd-4738-9a0d-49c2b300e353",
   "metadata": {},
   "outputs": [],
   "source": [
    "def band_noise_filter(asa_in, lower=0.1, upper=360, noise_freq=60):\n",
    "    '''\n",
    "    Inputs:\n",
    "        asa_in     - the AnalogSignalArray to be bandpass filtered and notched for noise removal.\n",
    "        lower      - the lower cutoff frequency for the bandpass filter. Must be greater than 0 Hz.\n",
    "        upper      - the upper cutoff frequency for the bandpass filter.\n",
    "        noise_freq - the frequency to be removed\n",
    "    \n",
    "    Outputs:\n",
    "        An AnalogSignalArray containing the bandpass filtered, notched signal with the same support\n",
    "        as the input signal.\n",
    "    '''\n",
    "\n",
    "    # High pass filter to remove slow signal drift\n",
    "    b,a = signal.butter(4, lower, btype='highpass', fs=asa_in.fs)\n",
    "    hpass = scipy.signal.filtfilt(b, a, asa_in.data)\n",
    "    denoising = deepcopy(hpass)\n",
    "\n",
    "    # Notch filter to remove 60 Hz noise and its harmonics\n",
    "    for num in range(1, int(asa_in.fs/(2*noise_freq))):\n",
    "        harmonic = num*noise_freq\n",
    "        b, a = signal.iirnotch(harmonic, 100, asa_in.fs)\n",
    "        notch_inc = scipy.signal.filtfilt(b, a, denoising)\n",
    "        denoising = deepcopy(notch_inc)\n",
    "\n",
    "    # Create ASA with same support as asa_in, but change signal content\n",
    "    no_stim_band_noiseless = deepcopy(asa_in)\n",
    "    no_stim_band_noiseless.data = denoising\n",
    "    return no_stim_band_noiseless"
   ]
  },
  {
   "cell_type": "code",
   "execution_count": 16,
   "id": "ddc7cdab-d96c-4f26-b611-06d20b1f437b",
   "metadata": {},
   "outputs": [],
   "source": [
    "ant_hippo_filtered = band_noise_filter(ant_hippo_asa, lower=5, upper=512)\n",
    "post_hippo_filtered = band_noise_filter(post_hippo_asa)\n",
    "amcc_filtered = band_noise_filter(amcc_asa)"
   ]
  },
  {
   "cell_type": "code",
   "execution_count": 14,
   "id": "6be5bc8f-e516-4588-a8ea-bf220f2d5b4b",
   "metadata": {},
   "outputs": [],
   "source": [
    "# Validating 60 Hz noise and harmonics were removed\n",
    "with npl.FigureManager(show=True, figsize=(20,10)):\n",
    "    npl.psdplot(ant_hippo_asa.signals[0])\n",
    "    npl.psdplot(ant_hippo_filtered.signals[0])\n",
    "    plt.title('PSD before and after filtering')"
   ]
  },
  {
   "cell_type": "code",
   "execution_count": 15,
   "id": "d2e739e0-ffac-48e4-a4ff-cce666448e38",
   "metadata": {},
   "outputs": [],
   "source": [
    "with npl.FigureManager(show=True, figsize=(20,10)):\n",
    "    ax = plt.gca()\n",
    "    for idx, sig in enumerate(ant_hippo_filtered.signals):\n",
    "        npl.plot(sig[trigger_epochs[0].expand(.5)], ax=ax, label=str(idx+1))\n",
    "    npl.epochplot(trigger_epochs[0], fc='purple', ec='purple', alpha=0.2, ax=ax)\n",
    "    ax.set_ylim(top=(ant_hippo_filtered[trigger_epochs[0].expand(0.5)].data[:,:]).max())\n",
    "    box = ax.get_position()\n",
    "    ax.set_position([box.x0, box.y0 + box.height * 0.1,\n",
    "                     box.width, box.height * 0.9])\n",
    "    \n",
    "    # Put a legend below current axis\n",
    "    ax.legend(loc='upper center', bbox_to_anchor=(0.5, -0.05),\n",
    "              fancybox=True, shadow=True, ncol=5)\n",
    "    plt.title('Anterior Hippocampus Trigger Event')\n",
    "    plt.show()"
   ]
  },
  {
   "cell_type": "markdown",
   "id": "97b8e9e2-039a-4bd4-b45e-0903dc9167b5",
   "metadata": {},
   "source": [
    "# Keypress Average\n",
    "We want to see how activity is stereotyped around the decision point -- here, we will average the trials at the point of key press (decision)"
   ]
  },
  {
   "cell_type": "markdown",
   "id": "97b215bb-8f9a-446a-961e-13b9a5f5a7e6",
   "metadata": {},
   "source": [
    "## Single channel"
   ]
  },
  {
   "cell_type": "code",
   "execution_count": 16,
   "id": "5c92d317-f20b-4bf0-889f-54caa52319f2",
   "metadata": {},
   "outputs": [],
   "source": [
    "test_sig = ant_hippo_filtered.signals[1]\n",
    "press_avg = np.zeros(1024)\n",
    "ax = plt.gca()\n",
    "for press in key_press_epochs:\n",
    "    press_sig = test_sig[nel.EpochArray([press.start-0.5, press.start+0.5])].data.squeeze()\n",
    "    plt.plot(np.linspace(-0.5,0.5,1024), press_sig, color='black', alpha=0.25)\n",
    "    press_avg += press_sig\n",
    "press_avg /= key_press_epochs.n_intervals\n",
    "plt.plot(np.linspace(-0.5,0.5,1024), press_avg, color='red')\n",
    "plt.axvline(0)\n",
    "ax.set_xlim(left=-0.5, right=0.5)\n",
    "plt.xlabel('Time from trigger onset')\n",
    "plt.title('Anterior Hippocampus at Key Press')\n",
    "plt.show()"
   ]
  },
  {
   "cell_type": "markdown",
   "id": "10120c77-6fd8-434f-98a5-cc49f391c235",
   "metadata": {},
   "source": [
    "## Multi channel (depth)"
   ]
  },
  {
   "cell_type": "code",
   "execution_count": 48,
   "id": "8e4a404a-3a65-4624-a9db-3a4e72e67520",
   "metadata": {},
   "outputs": [
    {
     "data": {
      "text/plain": [
       "Text(0.5, 0.98, 'Anterior hippocampus average response to keypress trigger')"
      ]
     },
     "execution_count": 48,
     "metadata": {},
     "output_type": "execute_result"
    }
   ],
   "source": [
    "num_channels = len(ant_hippo_filtered.signals)\n",
    "offset = 2\n",
    "data_size = int((2*offset)*1024)\n",
    "amcc_env = nel.utils.signal_envelope_1d(ant_hippo_filtered)\n",
    "# env_channel = amcc_env.signals[idx]\n",
    "for idx, channel in enumerate(ant_hippo_filtered.signals):\n",
    "    splot = plt.subplot(num_channels, 1, idx+1)\n",
    "    ax = plt.gca()\n",
    "    press_avg = np.zeros(data_size)\n",
    "    ax_twin = ax.twinx()\n",
    "    env_channel = amcc_env.signals[idx]\n",
    "    for press in key_press_epochs:\n",
    "        press_sig = channel[nel.EpochArray([press.start-offset, press.start+offset])].data.squeeze()\n",
    "        plt.plot(np.linspace(-offset,offset,data_size), press_sig, color='black', alpha=0.25)\n",
    "        press_avg += env_channel[nel.EpochArray([press.start-offset, press.start+offset])].data.squeeze()\n",
    "        # plt.setp(ax.get_xticklabels(), visible=False)\n",
    "    press_avg /= key_press_epochs.n_intervals\n",
    "    plt.plot(np.linspace(-offset,offset,data_size), press_avg, color='red')\n",
    "    # plt.tick_params('x', labelbottom=False)\n",
    "    plt.axvline(0)\n",
    "    ax.set_xlim(left=-offset, right=offset)\n",
    "    if idx+1 == num_channels:\n",
    "        plt.setp(ax.get_xticklabels(), visible=True)\n",
    "        plt.xlabel('Key press offset (s)')\n",
    "    else:\n",
    "        plt.setp(ax.get_xticklabels(), visible=False)\n",
    "plt.suptitle('Anterior hippocampus average response to keypress trigger')"
   ]
  },
  {
   "cell_type": "code",
   "execution_count": 60,
   "id": "666d2ff1-5b92-4a31-9da6-78ba76897dff",
   "metadata": {},
   "outputs": [
    {
     "data": {
      "text/plain": [
       "Text(0.5, 0.98, 'Anterior Hippocampus response to keypress trigger')"
      ]
     },
     "execution_count": 60,
     "metadata": {},
     "output_type": "execute_result"
    }
   ],
   "source": [
    "num_epochs = display_epochs.n_intervals\n",
    "offset = 1\n",
    "data_size = int((2*offset)*1024)\n",
    "channel = ant_hippo_filtered.signals[1]\n",
    "for idx, epoch in enumerate(display_epochs):\n",
    "    splot = plt.subplot(num_epochs, 1, idx+1)\n",
    "    ax = plt.gca()\n",
    "    press_sig = channel[nel.EpochArray([epoch.start-offset, epoch.start+offset])].data.squeeze()\n",
    "    plt.plot(np.linspace(-offset,offset,data_size), press_sig, color='black', alpha=0.25)\n",
    "    plt.axvline(0)\n",
    "    ax.set_xlim(left=-offset, right=offset)\n",
    "    if idx+1 < num_epochs:\n",
    "        plt.setp(ax.get_xticklabels(), visible=False)\n",
    "        \n",
    "    else:\n",
    "        plt.setp(ax.get_xticklabels(), visible=True)\n",
    "        plt.xlabel('Key press offset (s)')\n",
    "\n",
    "plt.suptitle('Anterior Hippocampus response to keypress trigger')"
   ]
  },
  {
   "cell_type": "code",
   "execution_count": 68,
   "id": "666745d6-a4e7-4245-9232-10a692e6c2d5",
   "metadata": {},
   "outputs": [
    {
     "data": {
      "text/plain": [
       "Text(0.5, 0.98, 'Anterior Hippocampus response to keypress trigger')"
      ]
     },
     "execution_count": 68,
     "metadata": {},
     "output_type": "execute_result"
    }
   ],
   "source": [
    "num_epochs = display_epochs.n_intervals\n",
    "offset = 1\n",
    "data_size = int((2*offset)*1024)\n",
    "channel = ant_hippo_filtered.signals[1]\n",
    "for idx, epoch in enumerate(display_epochs):\n",
    "    splot = plt.subplot(num_epochs, 1, idx+1)\n",
    "    ax = plt.gca()\n",
    "    press_sig = channel[nel.EpochArray([epoch.start-offset, epoch.start+offset])]\n",
    "    npl.psdplot(press_sig)\n",
    "    plt.axvline(0)\n",
    "    ax.set_xlim(left=-offset, right=offset)\n",
    "    if idx+1 < num_epochs:\n",
    "        plt.setp(ax.get_xticklabels(), visible=False)\n",
    "        \n",
    "    else:\n",
    "        plt.setp(ax.get_xticklabels(), visible=True)\n",
    "        plt.xlabel('Key press offset (s)')\n",
    "\n",
    "plt.suptitle('Anterior Hippocampus response to keypress trigger')\n",
    "# npl.psdplot(ant_hippo_filtered.signals[1][display_epochs[0]])"
   ]
  },
  {
   "cell_type": "code",
   "execution_count": 66,
   "id": "2e757449-b563-49ed-8a6b-71aeebf09ff4",
   "metadata": {},
   "outputs": [
    {
     "data": {
      "text/plain": [
       "array([ 5.56814339e-07,  4.02922931e-07,  4.76390825e-06, ...,\n",
       "       -4.88327740e-05, -4.94125469e-05, -4.71798635e-05])"
      ]
     },
     "execution_count": 66,
     "metadata": {},
     "output_type": "execute_result"
    }
   ],
   "source": [
    "press_sig"
   ]
  },
  {
   "cell_type": "markdown",
   "id": "b20d60c6-4fda-4116-8366-484c86e54798",
   "metadata": {},
   "source": [
    "# Looking at frequency domain"
   ]
  },
  {
   "cell_type": "code",
   "execution_count": 24,
   "id": "7451d855-d57b-4043-89e2-439ff7ceff15",
   "metadata": {},
   "outputs": [
    {
     "name": "stderr",
     "output_type": "stream",
     "text": [
      "WARNING:root:Module 'pyfftw' not found, using scipy backend\n"
     ]
    }
   ],
   "source": [
    "cwt = ContinuousWaveletTransform()\n",
    "cwt.transform(ant_hippo_filtered.signals[1])"
   ]
  },
  {
   "cell_type": "code",
   "execution_count": 35,
   "id": "4f6b0af4-6640-4f5d-a784-208e1577e824",
   "metadata": {},
   "outputs": [
    {
     "data": {
      "text/plain": [
       "(142, 3125120)"
      ]
     },
     "execution_count": 35,
     "metadata": {},
     "output_type": "execute_result"
    }
   ],
   "source": [
    "cwt.power.shape"
   ]
  },
  {
   "cell_type": "code",
   "execution_count": 43,
   "id": "ad1e9934-2317-44e4-9639-73f190a85491",
   "metadata": {},
   "outputs": [
    {
     "name": "stderr",
     "output_type": "stream",
     "text": [
      "WARNING:root:meta data is not available\n"
     ]
    },
    {
     "ename": "TypeError",
     "evalue": "'NoneType' object is not callable",
     "output_type": "error",
     "traceback": [
      "\u001b[0;31m---------------------------------------------------------------------------\u001b[0m",
      "\u001b[0;31mTypeError\u001b[0m                                 Traceback (most recent call last)",
      "Cell \u001b[0;32mIn[43], line 1\u001b[0m\n\u001b[0;32m----> 1\u001b[0m \u001b[43mkey_press_epochs\u001b[49m\u001b[43m[\u001b[49m\u001b[38;5;241;43m0\u001b[39;49m\u001b[43m]\u001b[49m\u001b[38;5;241;43m.\u001b[39;49m\u001b[43mmeta\u001b[49m\u001b[43m(\u001b[49m\u001b[43m)\u001b[49m\n",
      "\u001b[0;31mTypeError\u001b[0m: 'NoneType' object is not callable"
     ]
    }
   ],
   "source": [
    "key_press_epochs[0]."
   ]
  },
  {
   "cell_type": "code",
   "execution_count": 50,
   "id": "fc5e0b94-393e-4128-a7ce-bbc05ca55b9f",
   "metadata": {},
   "outputs": [],
   "source": [
    "ep = key_press_epochs[4]\n",
    "ax = plt.gca()\n",
    "ax.set_ylim(top=360,bottom=5)\n",
    "cwt.plot(logscale=False,\n",
    "         standardize=True,\n",
    "         cmap=plt.cm.Spectral_r,\n",
    "         levels=300,\n",
    "         vmin=0,\n",
    "         vmax=10,\n",
    "         ax=ax,\n",
    "         time_limits=nel.EpochArray([ep.start-2, ep.start+2]))"
   ]
  },
  {
   "cell_type": "markdown",
   "id": "afdc2aa3-4c40-4a6e-b132-42a3f7f85611",
   "metadata": {},
   "source": [
    "# Sharp wave ripples?"
   ]
  },
  {
   "cell_type": "code",
   "execution_count": 58,
   "id": "85ecd384-8063-45e4-a34a-df7a775e1d3a",
   "metadata": {},
   "outputs": [],
   "source": [
    "def ripple_band_filter(asa_in, lower=80, upper=140):\n",
    "    '''\n",
    "    Inputs:\n",
    "        asa_in     - the AnalogSignalArray to be bandpass filtered and notched for noise removal.\n",
    "        lower      - the lower cutoff frequency for the bandpass filter. Must be greater than 0 Hz.\n",
    "        upper      - the upper cutoff frequency for the bandpass filter.\n",
    "        noise_freq - the frequency to be removed\n",
    "    \n",
    "    Outputs:\n",
    "        An AnalogSignalArray containing the bandpass filtered, notched signal with the same support\n",
    "        as the input signal.\n",
    "    '''\n",
    "\n",
    "    # High pass filter to remove slow signal drift\n",
    "    b,a = signal.butter(4, [lower, upper], btype='bandpass', fs=asa_in.fs)\n",
    "    bpass = scipy.signal.filtfilt(b, a, asa_in.data)\n",
    "\n",
    "    # Create ASA with same support as asa_in, but change signal content\n",
    "    rband = deepcopy(asa_in)\n",
    "    rband.data = bpass\n",
    "    return rband"
   ]
  },
  {
   "cell_type": "code",
   "execution_count": 52,
   "id": "76783c55-4f78-401d-bd92-3f074480abfc",
   "metadata": {},
   "outputs": [],
   "source": [
    "ant_hip_rband = ripple_band_filter(ant_hippo_filtered)\n",
    "post_hip_rband = ripple_band_filter(post_hippo_filtered)"
   ]
  },
  {
   "cell_type": "code",
   "execution_count": 53,
   "id": "2afa8fdc-0ebe-466c-9b5a-d90128af0e48",
   "metadata": {},
   "outputs": [],
   "source": [
    "ant_hippo_rband_env = nel.utils.signal_envelope_1d(ant_hip_rband)\n",
    "post_hippo_rband_env = nel.utils.signal_envelope_1d(post_hip_rband)"
   ]
  },
  {
   "cell_type": "code",
   "execution_count": 54,
   "id": "f1904c2d-85af-4c8d-9977-263d7bf25f2d",
   "metadata": {},
   "outputs": [
    {
     "data": {
      "text/plain": [
       "Text(0.5, 0.98, 'Anterior Hippocampus ripple band average response to keypress trigger')"
      ]
     },
     "execution_count": 54,
     "metadata": {},
     "output_type": "execute_result"
    }
   ],
   "source": [
    "num_channels = len(ant_hippo_rband_env.signals)\n",
    "offset = 2\n",
    "data_size = int((2*offset)*1024)\n",
    "for idx, channel in enumerate(ant_hippo_rband_env.signals):\n",
    "    splot = plt.subplot(num_channels, 1, idx+1)\n",
    "    ax = plt.gca()\n",
    "    press_avg = np.zeros(data_size)\n",
    "    ax_twin = ax.twinx()\n",
    "    for press in key_press_epochs:\n",
    "        press_sig = channel[nel.EpochArray([press.start-offset, press.start+offset])].data.squeeze()\n",
    "        plt.plot(np.linspace(-offset,offset,data_size), press_sig, color='black', alpha=0.25)\n",
    "        press_avg += press_sig\n",
    "        # plt.setp(ax.get_xticklabels(), visible=False)\n",
    "    press_avg /= key_press_epochs.n_intervals\n",
    "    plt.plot(np.linspace(-offset,offset,data_size), press_avg, color='red')\n",
    "    # plt.tick_params('x', labelbottom=False)\n",
    "    plt.axvline(0)\n",
    "    ax.set_xlim(left=-offset, right=offset)\n",
    "    if idx+1 == num_channels:\n",
    "        plt.setp(ax.get_xticklabels(), visible=True)\n",
    "        plt.xlabel('Key press offset (s)')\n",
    "    else:\n",
    "        plt.setp(ax.get_xticklabels(), visible=False)\n",
    "plt.suptitle('Anterior Hippocampus ripple band average response to keypress trigger')"
   ]
  },
  {
   "cell_type": "code",
   "execution_count": 56,
   "id": "fbc73e74-460a-4757-b8eb-9ad00f21baf0",
   "metadata": {},
   "outputs": [
    {
     "name": "stderr",
     "output_type": "stream",
     "text": [
      "WARNING:root:Module 'pyfftw' not found, using scipy backend\n"
     ]
    }
   ],
   "source": [
    "cwt = ContinuousWaveletTransform()\n",
    "cwt.transform(ant_hip_rband.signals[1])"
   ]
  },
  {
   "cell_type": "code",
   "execution_count": 59,
   "id": "586de0af-c4ba-4f1d-81b2-32870e717aa2",
   "metadata": {},
   "outputs": [],
   "source": [
    "ep = key_press_epochs[4]\n",
    "ax = plt.gca()\n",
    "ax.set_ylim(bottom=50,top=200)\n",
    "cwt.plot(logscale=False,\n",
    "         standardize=True,\n",
    "         cmap=plt.cm.Spectral_r,\n",
    "         levels=300,\n",
    "         vmin=0,\n",
    "         vmax=10,\n",
    "         ax=ax,\n",
    "         time_limits=nel.EpochArray([ep.start-2, ep.start+2]))"
   ]
  },
  {
   "cell_type": "markdown",
   "id": "290455b1-e904-4088-84d0-0101b98ccc21",
   "metadata": {},
   "source": [
    "## Wavelets"
   ]
  },
  {
   "cell_type": "code",
   "execution_count": 14,
   "id": "ed6e381f-f667-417a-a3cf-517b325add2e",
   "metadata": {},
   "outputs": [
    {
     "name": "stderr",
     "output_type": "stream",
     "text": [
      "WARNING:root:Module 'pyfftw' not found, using scipy backend\n"
     ]
    }
   ],
   "source": [
    "cwt = ContinuousWaveletTransform()\n",
    "cwt.transform(amcc_filtered.signals[7])"
   ]
  },
  {
   "cell_type": "code",
   "execution_count": 18,
   "id": "4bda419f-f353-42cf-be54-f83b38526f9b",
   "metadata": {},
   "outputs": [
    {
     "data": {
      "text/plain": [
       "(142, 3125120)"
      ]
     },
     "execution_count": 18,
     "metadata": {},
     "output_type": "execute_result"
    }
   ],
   "source": [
    "cwt.power.shape"
   ]
  },
  {
   "cell_type": "code",
   "execution_count": 24,
   "id": "7c452eb5-b848-4742-825c-b3deead669c0",
   "metadata": {},
   "outputs": [],
   "source": [
    "ep = key_press_epochs[3]\n",
    "ax = plt.gca()\n",
    "ax.set_ylim(top=300)\n",
    "cwt.plot(logscale=False,\n",
    "         standardize=True,\n",
    "         cmap=plt.cm.Spectral_r,\n",
    "         levels=300,\n",
    "         vmin=0,\n",
    "         vmax=10,\n",
    "         ax=ax,\n",
    "         time_limits=nel.EpochArray([ep.start-0.5, ep.start+0.5]))"
   ]
  },
  {
   "cell_type": "code",
   "execution_count": null,
   "id": "83111d24-dc62-4c03-ac85-8d9ea7c6d583",
   "metadata": {},
   "outputs": [],
   "source": [
    "with npl.FigureManager(show=True, figsize=(45,45)):\n",
    "    for idx, press in enumerate(key_press_epochs):\n",
    "        # press_sig = test_sig[nel.EpochArray([press.start-0.5, press.start+0.5])].data.squeeze()\n",
    "        # plt.plot(np.linspace(-0.5,0.5,1024), press_sig, color='black', alpha=0.25)\n",
    "        splot = plt.subplot(3,5,idx+1)\n",
    "        cwt.plot(logscale=False,\n",
    "         standardize=True,\n",
    "         cmap=plt.cm.Spectral_r,\n",
    "         levels=300,\n",
    "         vmin=0,\n",
    "         vmax=10,\n",
    "         time_limits=nel.EpochArray([press.start-0.5, press.start+0.5]))\n",
    "    # plt.savefig(r\"C:\\Users\\Windows\\Documents\\CMU\\CMI\\SCS04\\plots\\tri_med.png\", transparent=True)"
   ]
  },
  {
   "cell_type": "code",
   "execution_count": null,
   "id": "678179aa-a0a8-4fd9-b4ff-c641b536fb02",
   "metadata": {},
   "outputs": [],
   "source": [
    "amcc_filtered"
   ]
  }
 ],
 "metadata": {
  "kernelspec": {
   "display_name": "Python 3 (ipykernel)",
   "language": "python",
   "name": "python3"
  },
  "language_info": {
   "codemirror_mode": {
    "name": "ipython",
    "version": 3
   },
   "file_extension": ".py",
   "mimetype": "text/x-python",
   "name": "python",
   "nbconvert_exporter": "python",
   "pygments_lexer": "ipython3",
   "version": "3.11.4"
  }
 },
 "nbformat": 4,
 "nbformat_minor": 5
}
