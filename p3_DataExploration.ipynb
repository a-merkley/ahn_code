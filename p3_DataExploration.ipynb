{
 "cells": [
  {
   "cell_type": "code",
   "execution_count": 5,
   "id": "b93f5a05-07c0-4ac5-89b6-98222d9e47f1",
   "metadata": {},
   "outputs": [
    {
     "ename": "ModuleNotFoundError",
     "evalue": "No module named 'mpl_toolkits.axes_grid'",
     "output_type": "error",
     "traceback": [
      "\u001b[1;31m---------------------------------------------------------------------------\u001b[0m",
      "\u001b[1;31mModuleNotFoundError\u001b[0m                       Traceback (most recent call last)",
      "Cell \u001b[1;32mIn[5], line 6\u001b[0m\n\u001b[0;32m      4\u001b[0m \u001b[38;5;28;01mimport\u001b[39;00m \u001b[38;5;21;01mmatplotlib\u001b[39;00m\u001b[38;5;21;01m.\u001b[39;00m\u001b[38;5;21;01mpyplot\u001b[39;00m \u001b[38;5;28;01mas\u001b[39;00m \u001b[38;5;21;01mplt\u001b[39;00m\n\u001b[0;32m      5\u001b[0m \u001b[38;5;28;01mimport\u001b[39;00m \u001b[38;5;21;01mimportlib\u001b[39;00m\n\u001b[1;32m----> 6\u001b[0m \u001b[43mimportlib\u001b[49m\u001b[38;5;241;43m.\u001b[39;49m\u001b[43mimport_module\u001b[49m\u001b[43m(\u001b[49m\u001b[38;5;124;43m'\u001b[39;49m\u001b[38;5;124;43mmpl_toolkits.axes_grid\u001b[39;49m\u001b[38;5;124;43m'\u001b[39;49m\u001b[43m)\u001b[49m\u001b[38;5;241m.\u001b[39m__path__\n\u001b[0;32m      7\u001b[0m \u001b[38;5;28;01mimport\u001b[39;00m \u001b[38;5;21;01mnelpy\u001b[39;00m \u001b[38;5;28;01mas\u001b[39;00m \u001b[38;5;21;01mnel\u001b[39;00m\n\u001b[0;32m      8\u001b[0m \u001b[38;5;28;01mimport\u001b[39;00m \u001b[38;5;21;01mnelpy\u001b[39;00m\u001b[38;5;21;01m.\u001b[39;00m\u001b[38;5;21;01mplotting\u001b[39;00m \u001b[38;5;28;01mas\u001b[39;00m \u001b[38;5;21;01mnpl\u001b[39;00m\n",
      "File \u001b[1;32m~\\anaconda3\\lib\\importlib\\__init__.py:126\u001b[0m, in \u001b[0;36mimport_module\u001b[1;34m(name, package)\u001b[0m\n\u001b[0;32m    124\u001b[0m             \u001b[38;5;28;01mbreak\u001b[39;00m\n\u001b[0;32m    125\u001b[0m         level \u001b[38;5;241m+\u001b[39m\u001b[38;5;241m=\u001b[39m \u001b[38;5;241m1\u001b[39m\n\u001b[1;32m--> 126\u001b[0m \u001b[38;5;28;01mreturn\u001b[39;00m \u001b[43m_bootstrap\u001b[49m\u001b[38;5;241;43m.\u001b[39;49m\u001b[43m_gcd_import\u001b[49m\u001b[43m(\u001b[49m\u001b[43mname\u001b[49m\u001b[43m[\u001b[49m\u001b[43mlevel\u001b[49m\u001b[43m:\u001b[49m\u001b[43m]\u001b[49m\u001b[43m,\u001b[49m\u001b[43m \u001b[49m\u001b[43mpackage\u001b[49m\u001b[43m,\u001b[49m\u001b[43m \u001b[49m\u001b[43mlevel\u001b[49m\u001b[43m)\u001b[49m\n",
      "File \u001b[1;32m<frozen importlib._bootstrap>:1050\u001b[0m, in \u001b[0;36m_gcd_import\u001b[1;34m(name, package, level)\u001b[0m\n",
      "File \u001b[1;32m<frozen importlib._bootstrap>:1027\u001b[0m, in \u001b[0;36m_find_and_load\u001b[1;34m(name, import_)\u001b[0m\n",
      "File \u001b[1;32m<frozen importlib._bootstrap>:1004\u001b[0m, in \u001b[0;36m_find_and_load_unlocked\u001b[1;34m(name, import_)\u001b[0m\n",
      "\u001b[1;31mModuleNotFoundError\u001b[0m: No module named 'mpl_toolkits.axes_grid'"
     ]
    }
   ],
   "source": [
    "# Imports\n",
    "import mne\n",
    "import numpy as np\n",
    "import matplotlib.pyplot as plt\n",
    "import importlib\n",
    "importlib.import_module('mpl_toolkits.axes_grid').__path__\n",
    "import nelpy as nel\n",
    "import nelpy.plotting as npl\n",
    "import scipy.io\n",
    "from scipy import signal\n",
    "from copy import *\n",
    "import pandas as pd\n",
    "from ghost.wave import ContinuousWaveletTransform\n",
    "import ghost.wave as gwave\n",
    "from seegpreprocessing import *\n",
    "import ghostipy as gsp\n",
    "\n",
    "import warnings\n",
    "warnings.filterwarnings('ignore')\n",
    "\n",
    "import holoviews as hv\n",
    "import hvplot\n",
    "from holoviews import opts\n",
    "hv.extension('bokeh', 'matplotlib')\n",
    "\n",
    "import csv\n"
   ]
  },
  {
   "cell_type": "code",
   "execution_count": 2,
   "id": "82107c10-703d-40b0-a657-12f12f681bae",
   "metadata": {},
   "outputs": [],
   "source": [
    "%matplotlib qt"
   ]
  },
  {
   "cell_type": "markdown",
   "id": "5e0fa007-4df6-4aed-af83-207e6086c0aa",
   "metadata": {},
   "source": [
    "# Loading the Data\n",
    "\n",
    "If grabbing signal from `data`, note that `data[channel]` will return a tuple, where the array at index `0` contains the values of the signal, and the array at index `1` contains the timestamps."
   ]
  },
  {
   "cell_type": "code",
   "execution_count": 20,
   "id": "b7e68b19-a5cb-4b99-bbe2-b63a841b967a",
   "metadata": {},
   "outputs": [
    {
     "name": "stdout",
     "output_type": "stream",
     "text": [
      "Extracting EDF parameters from /home/ariel/Documents/CMU/AHN/test4~ cmu_5c0d9c08-868c-458a-87e8-6a17ffc46069.edf...\n",
      "EDF file detected\n",
      "Setting channel info structure...\n",
      "Creating raw.info structure...\n",
      "Reading 0 ... 289791  =      0.000 ...   282.999 secs...\n"
     ]
    }
   ],
   "source": [
    "# Loading SEEG Data\n",
    "path = \"C:\\\\Users\\\\amand\\\\Documents\\\\Research\\\\Project_AHN\\\\Data_processing\\\\data\\\\meditation_sleep\\\\p3\\\\M3_Sleep.edf\"\n",
    "# path = '/home/ariel/Documents/CMU/AHN/test4~ cmu_5c0d9c08-868c-458a-87e8-6a17ffc46069.edf'\n",
    "data = mne.io.read_raw_edf(path, preload=True)\n",
    "raw_data = data.get_data()\n",
    "\n",
    "# Loading corresponding .mat file\n",
    "# pat_csv = pd.read_csv('/home/ariel/Documents/CMU/AHN/p3_08162023/behavior/p2_stroop1_july17.csv')"
   ]
  },
  {
   "cell_type": "code",
   "execution_count": 21,
   "id": "66ba0a12-a747-4928-bdf0-cd1d49e2e7bf",
   "metadata": {},
   "outputs": [
    {
     "name": "stderr",
     "output_type": "stream",
     "text": [
      "WARNING:root:creating support from abscissa_vals and sampling rate, fs!\n",
      "WARNING:root:'fs' has been deprecated; use 'step' instead\n"
     ]
    }
   ],
   "source": [
    "ant_ins_asa = nel.AnalogSignalArray(raw_data[0:4,:], fs=1024)"
   ]
  },
  {
   "cell_type": "markdown",
   "id": "3a866080-470e-4c2e-b686-f83020d37c43",
   "metadata": {},
   "source": [
    "# Extracting trigger events and metadata\n",
    "Trigger mapping:\n",
    "1. Start trial\n",
    "2. Word display\n",
    "3. Button press"
   ]
  },
  {
   "cell_type": "code",
   "execution_count": 22,
   "id": "bc8136cf-850f-4129-9446-38d0bb03afe9",
   "metadata": {},
   "outputs": [
    {
     "data": {
      "text/plain": [
       "25.70625"
      ]
     },
     "execution_count": 22,
     "metadata": {},
     "output_type": "execute_result"
    }
   ],
   "source": [
    "1542.375/60"
   ]
  },
  {
   "cell_type": "code",
   "execution_count": 10,
   "id": "e3c46203-e2af-4de3-83c1-9e1e6d57eb34",
   "metadata": {},
   "outputs": [
    {
     "data": {
      "text/plain": [
       "(1, 151936)"
      ]
     },
     "execution_count": 10,
     "metadata": {},
     "output_type": "execute_result"
    }
   ],
   "source": [
    "trig_asa.data.shape"
   ]
  },
  {
   "cell_type": "code",
   "execution_count": 17,
   "id": "bd98f84e-3951-4ab6-ad6f-4c8d4e7b9654",
   "metadata": {},
   "outputs": [
    {
     "name": "stderr",
     "output_type": "stream",
     "text": [
      "WARNING:root:creating support from abscissa_vals and sampling rate, fs!\n",
      "WARNING:root:'fs' has been deprecated; use 'step' instead\n"
     ]
    }
   ],
   "source": [
    "# you can get the metadata included in the file and a list of all channels:\n",
    "info = data.info\n",
    "channels = data.ch_names\n",
    "trig_idx = np.where(np.array(channels) == 'TRIG')[0][0]\n",
    "trig_asa = nel.AnalogSignalArray(raw_data[trig_idx,:], fs=1024)"
   ]
  },
  {
   "cell_type": "code",
   "execution_count": 18,
   "id": "6bc1af3c-8a24-44b1-884e-2a94b418c6e6",
   "metadata": {},
   "outputs": [
    {
     "name": "stdout",
     "output_type": "stream",
     "text": [
      "1 events found\n",
      "Event IDs: [248]\n"
     ]
    }
   ],
   "source": [
    "# Find event triggers (rising and falling edge)\n",
    "trigger_events = mne.find_events(data, stim_channel=\"TRIG\",output='onset')\n",
    "trig_starts = trigger_events[:,0]/1024\n",
    "trig_ends = trigger_events[:,0] + 102\n",
    "trig_ends = trig_ends/1024\n",
    "trigger_epochs = nel.EpochArray(np.vstack((trig_starts, trig_starts+0.1)).T)"
   ]
  },
  {
   "cell_type": "code",
   "execution_count": 13,
   "id": "e6519be8-6858-4032-9772-c60afac673fb",
   "metadata": {},
   "outputs": [
    {
     "ename": "NameError",
     "evalue": "name 'stroop_epochs' is not defined",
     "output_type": "error",
     "traceback": [
      "\u001b[0;31m---------------------------------------------------------------------------\u001b[0m",
      "\u001b[0;31mNameError\u001b[0m                                 Traceback (most recent call last)",
      "Cell \u001b[0;32mIn[13], line 1\u001b[0m\n\u001b[0;32m----> 1\u001b[0m overlap \u001b[38;5;241m=\u001b[39m \u001b[43mstroop_epochs\u001b[49m\u001b[38;5;241m.\u001b[39mintersect(trigger_epochs)\n",
      "\u001b[0;31mNameError\u001b[0m: name 'stroop_epochs' is not defined"
     ]
    }
   ],
   "source": [
    "overlap = stroop_epochs.intersect(trigger_epochs)"
   ]
  },
  {
   "cell_type": "code",
   "execution_count": 19,
   "id": "08a8aafa-01a8-42f5-b3f3-ba00d8f47293",
   "metadata": {},
   "outputs": [],
   "source": [
    "npl.plot(trig_asa)\n",
    "# npl.plot(trig_asa[overlap[1].expand(.1)], color='orange')"
   ]
  },
  {
   "cell_type": "code",
   "execution_count": 71,
   "id": "91ddecc0-60ab-4a1d-ad43-c0906b106c3a",
   "metadata": {},
   "outputs": [],
   "source": [
    "# display_epochs = trigger_epochs[np.arange(1,324,6)]\n",
    "display_epochs = overlap[np.arange(0,1500,2)]\n",
    "# display_epochs = stroop_triggers[np.arange(1,4860,6)]\n",
    "# display_epochs = trigger_epochs[np.hstack((np.arange(1,324,6), np.arange(969,1940,6)))]\n",
    "# key_press_epochs = trigger_epochs[np.arange(3,324,6)]\n",
    "key_press_epochs = overlap[np.arange(1,1500,2)]\n",
    "# key_press_epochs = trigger_epochs[np.hstack((np.arange(3,324,6), np.arange(971,1940,6)))]"
   ]
  },
  {
   "cell_type": "code",
   "execution_count": 72,
   "id": "21d99489-7331-4301-b6f5-24175b71e8a8",
   "metadata": {},
   "outputs": [],
   "source": [
    "npl.plot(trig_asa)\n",
    "npl.plot(trig_asa[display_epochs.expand(0.001)], color='orange')\n",
    "npl.plot(trig_asa[key_press_epochs.expand(0.001)], color='green')"
   ]
  },
  {
   "cell_type": "code",
   "execution_count": 79,
   "id": "31badc6a-55f3-43ec-ad92-14013abbaa67",
   "metadata": {},
   "outputs": [
    {
     "data": {
      "text/plain": [
       "750"
      ]
     },
     "execution_count": 79,
     "metadata": {},
     "output_type": "execute_result"
    }
   ],
   "source": [
    "key_press_epochs.n_intervals"
   ]
  },
  {
   "cell_type": "code",
   "execution_count": 78,
   "id": "547bb4ed-0553-46c2-913b-9f4f36ce2fcd",
   "metadata": {},
   "outputs": [
    {
     "data": {
      "text/plain": [
       "750"
      ]
     },
     "execution_count": 78,
     "metadata": {},
     "output_type": "execute_result"
    }
   ],
   "source": [
    "c_idx.shape[0]+nc_idx.shape[0]"
   ]
  },
  {
   "cell_type": "markdown",
   "id": "2f7ca625-a00b-4947-a1b7-7fa568606ed1",
   "metadata": {},
   "source": [
    "## Amanda's preprocessing"
   ]
  },
  {
   "cell_type": "code",
   "execution_count": 8,
   "id": "119261ad-9a42-474e-afe2-8e3e40c232c6",
   "metadata": {},
   "outputs": [],
   "source": [
    "import seeg_constants as CONST"
   ]
  },
  {
   "cell_type": "code",
   "execution_count": 9,
   "id": "5b7184b5-a391-4390-af86-91455e18ea38",
   "metadata": {},
   "outputs": [],
   "source": [
    "subject = CONST.Subject('p3')"
   ]
  },
  {
   "cell_type": "code",
   "execution_count": 10,
   "id": "fd84600e-5ea7-497e-8463-83bd4dafe7cb",
   "metadata": {},
   "outputs": [],
   "source": [
    "patient = 'p3'\n",
    "event = \"key\"  # On what even to align stroop tasks. Choose \"start\" (trial start), \"stim\" (stimulus onset), or \"key\" (keypress)\n",
    "alignment = \"left\"  # Choose \"center\" or \"left\"\n",
    "width = 1000  # Trials will be this long\n",
    "start_time = 0  # Start measuring width from this timeregion = subject.entorhinal\n",
    "region = subject.amcc\n",
    "probes = len(region)\n",
    "dim = int(np.ceil(np.sqrt(probes)))"
   ]
  },
  {
   "cell_type": "code",
   "execution_count": 53,
   "id": "cf5b15eb-2afa-4dee-b88d-8037c351f064",
   "metadata": {},
   "outputs": [],
   "source": [
    "csv_path = patient + \"_behavior_\" + alignment + str(width) + \"_\" + event + \".csv\"\n",
    "npy_path = patient + \"_trials_\" + alignment + str(width) + \"_\" + event + \".npy\"\n",
    "ch_path = patient + \"_ch.csv\""
   ]
  },
  {
   "cell_type": "code",
   "execution_count": 12,
   "id": "efd0b82c-c13b-4ab4-8e7e-2f3331a7cf99",
   "metadata": {},
   "outputs": [],
   "source": [
    "# Read in data\n",
    "behavior_df = pd.read_csv(csv_path)\n",
    "with open(npy_path, 'rb') as f:\n",
    "    trials = np.load(f)\n",
    "    trial_times = np.load(f)\n",
    "channels_raw = next(csv.DictReader(open(ch_path)))\n",
    "channels = {i: int(j) for i, j in channels_raw.items()}"
   ]
  },
  {
   "cell_type": "code",
   "execution_count": 54,
   "id": "bfef3079-1ad2-4966-8287-71785d27edc5",
   "metadata": {},
   "outputs": [],
   "source": [
    "congruency = behavior_df['congruent'].to_numpy()\n",
    "c_idx = np.where(congruency == 1)[0]\n",
    "nc_idx = np.where(congruency == 0)[0]\n",
    "c_trials = np.mean(trials[c_idx, :, start_time:width], axis=0)\n",
    "nc_trials = np.mean(trials[nc_idx, :, start_time:width], axis=0)"
   ]
  },
  {
   "cell_type": "code",
   "execution_count": 14,
   "id": "bb0e20e9-4fe6-437c-94fb-18f61a3a99bc",
   "metadata": {},
   "outputs": [],
   "source": [
    "# Plot trials\n",
    "c_stderr = np.std(trials[c_idx, :, start_time:width], axis=0) / np.sqrt(len(c_idx))\n",
    "nc_stderr = np.std(trials[nc_idx, :, start_time:width], axis=0) / np.sqrt(len(nc_idx))\n",
    "t = np.arange(start_time, width) if alignment == \"left\" else np.arange(-int(width/2), int(width/2))\n",
    "for i, c in enumerate(region):\n",
    "    plt.subplot(dim, dim, i+1)\n",
    "    plt.errorbar(t, c_trials[channels[c]], yerr=c_stderr[channels[c]], label=\"congruent\", ecolor='#f17386', fmt='k')\n",
    "    plt.errorbar(t, nc_trials[channels[c]], yerr=nc_stderr[channels[c]], label=\"incongruent\", ecolor='#73a1f1', fmt='b')\n",
    "    y_max = max(max(c_trials[channels[c]]), max(nc_trials[channels[c]]))\n",
    "    y_min = min(min(c_trials[channels[c]]), min(nc_trials[channels[c]]))\n",
    "    plt.plot([0, 0], [y_min, y_max], 'k--')\n",
    "    # plt.plot(t, c_trials[channels[c]], label=\"congruent\", color='k')\n",
    "    # plt.plot(t, nc_trials[channels[c]], label=\"incongruent\", color='b')\n",
    "    if i == 4:\n",
    "        plt.ylabel(\"Voltage (uV)\")\n",
    "    plt.title('Channel ' + str(i + 1))\n",
    "    plt.xticks(fontsize=10, rotation=0)\n",
    "    plt.yticks(fontsize=10, rotation=0)\n",
    "    plt.legend(loc='upper right', fontsize='small')\n",
    "plt.suptitle(\"Stroop, AmCC (left): 1 second after keypress\")\n",
    "plt.show()"
   ]
  },
  {
   "cell_type": "markdown",
   "id": "d9c4ddd5-c428-47ce-921f-c356246e534a",
   "metadata": {},
   "source": [
    "## CWT of congruent vs. incongruent"
   ]
  },
  {
   "cell_type": "code",
   "execution_count": 19,
   "id": "4154d276-b9a4-4997-bcc4-07a28add91ad",
   "metadata": {},
   "outputs": [],
   "source": [
    "import seeg_library as slib"
   ]
  },
  {
   "cell_type": "code",
   "execution_count": 51,
   "id": "c1ee2554-dbb4-4e72-81f5-e837a8f3c464",
   "metadata": {},
   "outputs": [],
   "source": [
    "tup = slib.get_exp_endpoints(data,18)\n",
    "stroop_epochs = nel.EpochArray(np.vstack((tup[0:10], tup[12:17]))/1024)\n",
    "bart_epochs = nel.EpochArray(np.vstack((tup[10:12], tup[17]))/1024)"
   ]
  },
  {
   "cell_type": "code",
   "execution_count": 98,
   "id": "89c70d6e-b5e9-4830-a7f4-faeff36ee585",
   "metadata": {},
   "outputs": [],
   "source": [
    "npl.plot(trig_asa)\n",
    "npl.plot(trig_asa[stroop_epochs], color='orange')\n",
    "npl.plot(trig_asa[bart_epochs], color='green')"
   ]
  },
  {
   "cell_type": "code",
   "execution_count": 13,
   "id": "60af7c98-7b8c-409d-bb4f-82b8c949de9e",
   "metadata": {},
   "outputs": [
    {
     "data": {
      "text/plain": [
       "(1000,)"
      ]
     },
     "execution_count": 13,
     "metadata": {},
     "output_type": "execute_result"
    }
   ],
   "source": [
    "c_trials[channels[c]].shape"
   ]
  },
  {
   "cell_type": "code",
   "execution_count": 147,
   "id": "d295dbb9-a8f3-444d-a005-ef356315e641",
   "metadata": {},
   "outputs": [],
   "source": [
    "with warnings.catch_warnings():\n",
    "    warnings.simplefilter(\"ignore\")\n",
    "    coefs_cwt, _, f_cwt, t_cwt, _ = gsp.cwt(\n",
    "        # amcc_filtered.signals[0][nel.EpochArray([0,470])].data.squeeze(), fs=1024, freq_limits=[1, 60])\n",
    "    ant_ins_asa.signals[2].data.squeeze(), fs=1024, freq_limits=[1, 60])"
   ]
  },
  {
   "cell_type": "code",
   "execution_count": 148,
   "id": "f8d9de78-5f2e-4e65-a7aa-e74fb92fc017",
   "metadata": {},
   "outputs": [],
   "source": [
    "# will be normalized such that max is 1, so the\n",
    "# sampling rate factor can be dropped\n",
    "psd_cwt = coefs_cwt.real**2 + coefs_cwt.imag**2"
   ]
  },
  {
   "cell_type": "code",
   "execution_count": 149,
   "id": "93bef105-1f01-4515-a712-cbc10f67b730",
   "metadata": {},
   "outputs": [
    {
     "data": {
      "text/plain": [
       "(60,)"
      ]
     },
     "execution_count": 149,
     "metadata": {},
     "output_type": "execute_result"
    }
   ],
   "source": [
    "psd_cwt[:,0:(450*1024)].std(axis=1).shape"
   ]
  },
  {
   "cell_type": "code",
   "execution_count": 150,
   "id": "6a41a339-0ff5-41e6-b100-4a297b99d731",
   "metadata": {},
   "outputs": [],
   "source": [
    "shifted = (psd_cwt - np.reshape(psd_cwt[:,0:(450*1024)].mean(axis=1), (60,1))) / np.reshape(psd_cwt[:,0:(450*1024)].std(axis=1), (60,1))"
   ]
  },
  {
   "cell_type": "code",
   "execution_count": 151,
   "id": "c60bd530-c7ae-4618-86f8-e8ac44ecc113",
   "metadata": {},
   "outputs": [],
   "source": [
    "offset = 1024\n",
    "ep_power = np.zeros((shifted.shape[0], (2*offset)))\n",
    "for ts in (key_press_epochs.data * 1024)[:,0]:\n",
    "    ep_power += shifted[:, int(ts - offset): int(ts + offset)]\n",
    "ep_avg = ep_power / key_press_epochs.n_intervals"
   ]
  },
  {
   "cell_type": "code",
   "execution_count": 152,
   "id": "6467c4b3-a34d-48ff-9b34-1af68780286d",
   "metadata": {},
   "outputs": [
    {
     "data": {
      "text/plain": [
       "Text(0, 0.5, 'Frequency band (Hz)')"
      ]
     },
     "execution_count": 152,
     "metadata": {},
     "output_type": "execute_result"
    }
   ],
   "source": [
    "fig = plt.Figure()\n",
    "ax = plt.gca()\n",
    "pc_cwt = ax.pcolormesh(np.arange(0,2048,1), f_cwt, ep_avg)\n",
    "pc_cwt.set_edgecolor('face')\n",
    "cbar_cwt = fig.colorbar(pc_cwt, ax=ax)\n",
    "cbar_cwt.ax.tick_params(labelsize=16)\n",
    "cbar_cwt.set_label(\"Normalized PSD\", fontsize=16, labelpad=15)\n",
    "ax.set_title(\"Averaged Key Press Spectrogram (CWT) in Anterior Insula\", fontsize=24)\n",
    "ax.text(-0.25, 1.1, 'c', transform=ax.transAxes, size=27, weight='bold')\n",
    "ax.set_xticks([0,1024,2048], labels=['-1','0','1'])\n",
    "ax.set_xlabel('Time from Key Press (s)')\n",
    "ax.set_ylabel('Frequency band (Hz)')"
   ]
  },
  {
   "cell_type": "code",
   "execution_count": null,
   "id": "a0008d8d-04c9-44f9-9243-e65502d05657",
   "metadata": {},
   "outputs": [],
   "source": []
  }
 ],
 "metadata": {
  "kernelspec": {
   "display_name": "Python 3 (ipykernel)",
   "language": "python",
   "name": "python3"
  },
  "language_info": {
   "codemirror_mode": {
    "name": "ipython",
    "version": 3
   },
   "file_extension": ".py",
   "mimetype": "text/x-python",
   "name": "python",
   "nbconvert_exporter": "python",
   "pygments_lexer": "ipython3",
   "version": "3.11.5"
  }
 },
 "nbformat": 4,
 "nbformat_minor": 5
}
